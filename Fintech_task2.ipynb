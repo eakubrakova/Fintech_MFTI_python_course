{
  "nbformat": 4,
  "nbformat_minor": 0,
  "metadata": {
    "colab": {
      "provenance": [],
      "authorship_tag": "ABX9TyOpAIWsgRyIUpkDSUxbI3uE",
      "include_colab_link": true
    },
    "kernelspec": {
      "name": "python3",
      "display_name": "Python 3"
    },
    "language_info": {
      "name": "python"
    }
  },
  "cells": [
    {
      "cell_type": "markdown",
      "metadata": {
        "id": "view-in-github",
        "colab_type": "text"
      },
      "source": [
        "<a href=\"https://colab.research.google.com/github/eakubrakova/Python_basics_Netology/blob/main/Fintech_task2.ipynb\" target=\"_parent\"><img src=\"https://colab.research.google.com/assets/colab-badge.svg\" alt=\"Open In Colab\"/></a>"
      ]
    },
    {
      "cell_type": "code",
      "execution_count": 58,
      "metadata": {
        "id": "-lu5MFttx2KJ",
        "colab": {
          "base_uri": "https://localhost:8080/",
          "height": 194
        },
        "outputId": "2d6622ba-9133-49ea-a5ac-59d1992f3660"
      },
      "outputs": [
        {
          "output_type": "display_data",
          "data": {
            "text/plain": [
              "'Статистика критерия Пирсона: '"
            ],
            "application/vnd.google.colaboratory.intrinsic+json": {
              "type": "string"
            }
          },
          "metadata": {}
        },
        {
          "output_type": "display_data",
          "data": {
            "text/plain": [
              "0.3777777777777779"
            ]
          },
          "metadata": {}
        },
        {
          "output_type": "display_data",
          "data": {
            "text/plain": [
              "'Критическое значение: '"
            ],
            "application/vnd.google.colaboratory.intrinsic+json": {
              "type": "string"
            }
          },
          "metadata": {}
        },
        {
          "output_type": "display_data",
          "data": {
            "text/plain": [
              "14.703636767918281"
            ]
          },
          "metadata": {}
        },
        {
          "output_type": "display_data",
          "data": {
            "text/plain": [
              "'P-value: '"
            ],
            "application/vnd.google.colaboratory.intrinsic+json": {
              "type": "string"
            }
          },
          "metadata": {}
        },
        {
          "output_type": "display_data",
          "data": {
            "text/plain": [
              "0.9999909398983927"
            ]
          },
          "metadata": {}
        },
        {
          "output_type": "display_data",
          "data": {
            "text/plain": [
              "'Максимальный уровень значимости: '"
            ],
            "application/vnd.google.colaboratory.intrinsic+json": {
              "type": "string"
            }
          },
          "metadata": {}
        },
        {
          "output_type": "display_data",
          "data": {
            "text/plain": [
              "0.9"
            ]
          },
          "metadata": {}
        },
        {
          "output_type": "display_data",
          "data": {
            "text/plain": [
              "'Гипотеза H0 принимается на уровне значимости'"
            ],
            "application/vnd.google.colaboratory.intrinsic+json": {
              "type": "string"
            }
          },
          "metadata": {}
        },
        {
          "output_type": "display_data",
          "data": {
            "text/plain": [
              "0.9"
            ]
          },
          "metadata": {}
        }
      ],
      "source": [
        "# Импортируем необходимые библиотеки\n",
        "import math\n",
        "import numpy as np\n",
        "from scipy import stats\n",
        "\n",
        "# Генерируем первые 100000 знаков числа π\n",
        "pi_str = str(math.pi)[2:100002]\n",
        "\n",
        "# Создаем список для хранения статистики\n",
        "counts = [0] * 10\n",
        "\n",
        "# Считаем, сколько раз каждая цифра встречается в числе π\n",
        "for digit in pi_str:\n",
        "    counts[int(digit)] += 1\n",
        "\n",
        "# Вычисляем эмпирическую статистику знаков\n",
        "empirical_counts = np.array(counts)\n",
        "n = len(pi_str)\n",
        "empirical_frequencies = empirical_counts / n\n",
        "\n",
        "# Вычисляем теоретические частоты\n",
        "theoretical_frequencies = np.array([1/10] * 10)\n",
        "\n",
        "# Вычисляем статистику хи-квадрат\n",
        "chi_squared_statistic = np.sum((empirical_frequencies - theoretical_frequencies)**2 / theoretical_frequencies)\n",
        "\n",
        "# Вычисляем уровень значимости\n",
        "degrees_of_freedom = 9\n",
        "alpha = 0.9\n",
        "critical_value = np.percentile(np.random.chisquare(degrees_of_freedom, 100000), alpha * 100)\n",
        "p_value = 1 - stats.chi2.cdf(chi_squared_statistic, degrees_of_freedom)\n",
        "\n",
        "\n",
        "# Выведем результаты\n",
        "display(\"Статистика критерия Пирсона: \", chi_squared_statistic)\n",
        "display(\"Критическое значение: \", critical_value)\n",
        "display(\"P-value: \", p_value)\n",
        "display(\"Максимальный уровень значимости: \", alpha)\n",
        "\n",
        "\n",
        "# Проверяем гипотезу H0\n",
        "if chi_squared_statistic < critical_value:\n",
        "    display(\"Гипотеза H0 принимается на уровне значимости\", alpha)\n",
        "else:\n",
        "    display(\"Гипотеза H0 отвергается на уровне значимости\", alpha)\n",
        "\n",
        "\n",
        "\n"
      ]
    }
  ]
}