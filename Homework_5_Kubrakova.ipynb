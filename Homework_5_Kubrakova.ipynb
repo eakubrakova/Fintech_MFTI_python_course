{
  "nbformat": 4,
  "nbformat_minor": 0,
  "metadata": {
    "colab": {
      "provenance": [],
      "authorship_tag": "ABX9TyM1RVX5HsnVavqwC1VR/lVW",
      "include_colab_link": true
    },
    "kernelspec": {
      "name": "python3",
      "display_name": "Python 3"
    },
    "language_info": {
      "name": "python"
    }
  },
  "cells": [
    {
      "cell_type": "markdown",
      "metadata": {
        "id": "view-in-github",
        "colab_type": "text"
      },
      "source": [
        "<a href=\"https://colab.research.google.com/github/eakubrakova/Python_basics_Netology/blob/main/Homework_5_Kubrakova.ipynb\" target=\"_parent\"><img src=\"https://colab.research.google.com/assets/colab-badge.svg\" alt=\"Open In Colab\"/></a>"
      ]
    },
    {
      "cell_type": "markdown",
      "source": [
        "#Домашнее задание 5\n",
        "\n",
        "Откройте файл с данными для uplift-моделирования.\n",
        "Проанализируйте данные:\n",
        "признаки клиентов;\n",
        "группы клиентов;\n",
        "распределение признаков и т. д.\n",
        "Разделите выборки для обучения модели.\n",
        "Обучите модель XGBClassifier.\n",
        "Оцените качество построенной модели."
      ],
      "metadata": {
        "id": "ERcAuHRJcHKb"
      }
    },
    {
      "cell_type": "code",
      "source": [
        "import pandas as pd\n",
        "import matplotlib.pyplot as plt\n",
        "from sklearn.model_selection import train_test_split\n",
        "from xgboost import XGBClassifier\n",
        "from sklearn.metrics import accuracy_score, precision_score, recall_score, f1_score, roc_auc_score, roc_curve\n",
        "\n",
        "# Загрузка данных\n",
        "data = pd.read_csv('/content/uplift_synthetic_data_100trials.csv')\n",
        "\n",
        "# Анализ признаков клиентов\n",
        "features = data.drop(['trial_id', 'treatment_group_key', 'conversion', 'control_conversion_prob', 'treatment1_conversion_prob', 'treatment1_true_effect'], axis=1)\n",
        "print(\"Признаки клиентов:\")\n",
        "print(features.head())\n",
        "\n",
        "# Анализ групп клиентов\n",
        "groups = data['treatment_group_key'].value_counts()\n",
        "print(\"Группы клиентов:\")\n",
        "print(groups)\n",
        "\n",
        "# Распределение признаков\n",
        "feature_distribution = data[['control_conversion_prob', 'treatment1_conversion_prob', 'treatment1_true_effect']].describe()\n",
        "print(\"Распределение признаков:\")\n",
        "print(feature_distribution)\n",
        "\n",
        "\n",
        "# Разделение выборки на обучающую и тестовую\n",
        "X_train, X_test, y_train, y_test = train_test_split(features, data['conversion'], test_size=0.2, random_state=42)\n",
        "\n",
        "# Обучение модели XGBClassifier\n",
        "model = XGBClassifier()\n",
        "model.fit(X_train, y_train)\n",
        "\n",
        "# Предсказание на тестовой выборке\n",
        "y_pred = model.predict(X_test)\n",
        "\n",
        "# Оценка качества модели\n",
        "y_pred = model.predict(X_test)\n",
        "accuracy = accuracy_score(y_test, y_pred)\n",
        "precision = precision_score(y_test, y_pred)\n",
        "recall = recall_score(y_test, y_pred)\n",
        "f1 = f1_score(y_test, y_pred)\n",
        "roc_auc = roc_auc_score(y_test, model.predict_proba(X_test)[:, 1])\n",
        "\n",
        "print(\"Accuracy:\", accuracy)\n",
        "print(\"Precision:\", precision)\n",
        "print(\"Recall:\", recall)\n",
        "print(\"F1 Score:\", f1)\n",
        "print(\"ROC AUC Score:\", roc_auc)\n",
        "\n",
        "\n"
      ],
      "metadata": {
        "colab": {
          "base_uri": "https://localhost:8080/"
        },
        "id": "-LQLNy9vPeUm",
        "outputId": "4c1c6521-51cd-48d2-ae07-2898bf167b61"
      },
      "execution_count": 35,
      "outputs": [
        {
          "output_type": "stream",
          "name": "stdout",
          "text": [
            "Признаки клиентов:\n",
            "   Unnamed: 0  x1_informative  x2_informative  x3_informative  x4_informative  \\\n",
            "0           0       -1.926651        1.233472       -0.475120        0.081283   \n",
            "1           1        0.904364        0.868705       -0.285977        0.840136   \n",
            "2           2        1.680978        1.320889        0.059273       -0.517732   \n",
            "3           3       -0.335774       -2.940232       -0.302521        0.236998   \n",
            "4           4       -0.475881       -0.485793        0.978582       -0.610766   \n",
            "\n",
            "   x5_informative  x6_informative  x7_informative  x8_informative  \\\n",
            "0       -2.097355        0.156194        0.476017        0.384854   \n",
            "1       -1.732885        0.662172        0.133609        0.415481   \n",
            "2       -1.084595        1.708389        3.129505        0.224444   \n",
            "3        0.504439        0.309932       -1.203550       -1.750045   \n",
            "4       -0.686091        1.261336       -0.804359       -0.074993   \n",
            "\n",
            "   x9_informative  ...  x27_irrelevant  x28_irrelevant  x29_irrelevant  \\\n",
            "0       -1.066659  ...       -0.378145       -0.110782        1.087180   \n",
            "1        2.347846  ...       -0.742847        0.700239        0.001867   \n",
            "2        0.370166  ...        0.748884       -0.856898       -0.268034   \n",
            "3        1.333699  ...        0.151074        0.067547       -0.839246   \n",
            "4       -1.787358  ...       -1.287117        1.256396       -1.155307   \n",
            "\n",
            "   x30_irrelevant  x31_uplift_increase  x32_uplift_increase  \\\n",
            "0       -1.222069            -0.279009             1.013911   \n",
            "1       -0.069362             0.045789             1.364182   \n",
            "2       -2.181874             1.473214            -1.256641   \n",
            "3        0.587575             0.412081             0.141189   \n",
            "4       -0.414787             1.163851             0.698114   \n",
            "\n",
            "   x33_uplift_increase  x34_uplift_increase  x35_uplift_increase  \\\n",
            "0            -0.570859            -1.158216            -1.336279   \n",
            "1            -0.261643             0.478074             0.531477   \n",
            "2             0.901139             2.029204            -0.280445   \n",
            "3             0.369611            -0.364984            -1.509045   \n",
            "4             0.088157             0.478717            -0.680588   \n",
            "\n",
            "   x36_uplift_increase  \n",
            "0            -0.708056  \n",
            "1             0.402723  \n",
            "2             0.873970  \n",
            "3            -1.335023  \n",
            "4            -2.730850  \n",
            "\n",
            "[5 rows x 37 columns]\n",
            "Группы клиентов:\n",
            "control       18693\n",
            "treatment1    18693\n",
            "Name: treatment_group_key, dtype: int64\n",
            "Распределение признаков:\n",
            "       control_conversion_prob  treatment1_conversion_prob  \\\n",
            "count             37386.000000                37386.000000   \n",
            "mean                  0.251194                    0.358082   \n",
            "std                   0.199595                    0.277939   \n",
            "min                   0.000059                    0.000061   \n",
            "25%                   0.098906                    0.117414   \n",
            "50%                   0.193296                    0.286997   \n",
            "75%                   0.350886                    0.564007   \n",
            "max                   0.999077                    0.999904   \n",
            "\n",
            "       treatment1_true_effect  \n",
            "count            37386.000000  \n",
            "mean                 0.106888  \n",
            "std                  0.201744  \n",
            "min                 -0.721299  \n",
            "25%                 -0.024905  \n",
            "50%                  0.060916  \n",
            "75%                  0.222903  \n",
            "max                  0.964957  \n",
            "Accuracy: 0.7270660604439689\n",
            "Precision: 0.5772946859903382\n",
            "Recall: 0.3210927004030452\n",
            "F1 Score: 0.4126618705035971\n",
            "ROC AUC Score: 0.7026671169138543\n"
          ]
        }
      ]
    }
  ]
}