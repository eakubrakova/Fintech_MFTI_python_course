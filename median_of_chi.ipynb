{
  "nbformat": 4,
  "nbformat_minor": 0,
  "metadata": {
    "colab": {
      "provenance": [],
      "authorship_tag": "ABX9TyOJUvDb/g8imKgz6xvbKLPG",
      "include_colab_link": true
    },
    "kernelspec": {
      "name": "python3",
      "display_name": "Python 3"
    },
    "language_info": {
      "name": "python"
    }
  },
  "cells": [
    {
      "cell_type": "markdown",
      "metadata": {
        "id": "view-in-github",
        "colab_type": "text"
      },
      "source": [
        "<a href=\"https://colab.research.google.com/github/eakubrakova/Python_basics_Netology/blob/main/median_of_chi.ipynb\" target=\"_parent\"><img src=\"https://colab.research.google.com/assets/colab-badge.svg\" alt=\"Open In Colab\"/></a>"
      ]
    },
    {
      "cell_type": "code",
      "execution_count": 2,
      "metadata": {
        "colab": {
          "base_uri": "https://localhost:8080/"
        },
        "id": "2xeghUvsPzQ6",
        "outputId": "712da7ca-58c5-44f2-fb68-4da2cb0a6b8c"
      },
      "outputs": [
        {
          "output_type": "stream",
          "name": "stdout",
          "text": [
            "Значение медианы: 4.351460191095526\n"
          ]
        }
      ],
      "source": [
        "from scipy.stats import chi2\n",
        "\n",
        "df = 5  # степень свободы\n",
        "alpha = 0.5  # уровень значимости (для медианы это всегда 0.5)\n",
        "\n",
        "median = chi2.ppf(alpha, df)\n",
        "print(\"Значение медианы:\", median)\n"
      ]
    },
    {
      "cell_type": "markdown",
      "source": [
        "При помощи таблиц, библиотек для работ с данными или другим способом най-\n",
        "дите медиану распределения хи-квадрат с пятью степенями свободы.\n",
        "\n",
        "Ответ округлите до четырех знаков после точки. Нецелые выражения укажите через точку."
      ],
      "metadata": {
        "id": "9qPQvIe7VwQm"
      }
    }
  ]
}