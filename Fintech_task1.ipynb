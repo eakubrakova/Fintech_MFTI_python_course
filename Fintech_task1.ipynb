{
  "nbformat": 4,
  "nbformat_minor": 0,
  "metadata": {
    "colab": {
      "provenance": [],
      "authorship_tag": "ABX9TyMHxY7p0OLmm4ivIxPXUu1l",
      "include_colab_link": true
    },
    "kernelspec": {
      "name": "python3",
      "display_name": "Python 3"
    },
    "language_info": {
      "name": "python"
    }
  },
  "cells": [
    {
      "cell_type": "markdown",
      "metadata": {
        "id": "view-in-github",
        "colab_type": "text"
      },
      "source": [
        "<a href=\"https://colab.research.google.com/github/eakubrakova/Python_basics_Netology/blob/main/Fintech_task1.ipynb\" target=\"_parent\"><img src=\"https://colab.research.google.com/assets/colab-badge.svg\" alt=\"Open In Colab\"/></a>"
      ]
    },
    {
      "cell_type": "code",
      "execution_count": 10,
      "metadata": {
        "colab": {
          "base_uri": "https://localhost:8080/",
          "height": 175
        },
        "id": "R1qeD-3K1au3",
        "outputId": "f77ef196-5b85-48ce-a13f-df03df024c41"
      },
      "outputs": [
        {
          "output_type": "display_data",
          "data": {
            "text/plain": [
              "0.0"
            ]
          },
          "metadata": {}
        },
        {
          "output_type": "display_data",
          "data": {
            "text/plain": [
              "0.7453559924999299"
            ]
          },
          "metadata": {}
        },
        {
          "output_type": "display_data",
          "data": {
            "text/plain": [
              "16.25"
            ]
          },
          "metadata": {}
        },
        {
          "output_type": "display_data",
          "data": {
            "text/plain": [
              "18.24933136413757"
            ]
          },
          "metadata": {}
        },
        {
          "output_type": "display_data",
          "data": {
            "text/plain": [
              "0.0003589675218738734"
            ]
          },
          "metadata": {}
        },
        {
          "output_type": "display_data",
          "data": {
            "text/plain": [
              "'Вероятность выпадения суммы очков 22 или больше при честных дайсах: 0.0000'"
            ],
            "application/vnd.google.colaboratory.intrinsic+json": {
              "type": "string"
            }
          },
          "metadata": {}
        },
        {
          "output_type": "stream",
          "name": "stdout",
          "text": [
            "H0 отвергается в пользу H1: дайсы нечестные\n"
          ]
        },
        {
          "output_type": "display_data",
          "data": {
            "text/plain": [
              "'Вероятность выпадения суммы очков 22 или больше при честных дайсах: 0.0000'"
            ],
            "application/vnd.google.colaboratory.intrinsic+json": {
              "type": "string"
            }
          },
          "metadata": {}
        },
        {
          "output_type": "display_data",
          "data": {
            "text/plain": [
              "'H0 отвергается в пользу H1: дайсы нечестные'"
            ],
            "application/vnd.google.colaboratory.intrinsic+json": {
              "type": "string"
            }
          },
          "metadata": {}
        }
      ],
      "source": [
        "import numpy as np\n",
        "from scipy.stats import binom, ttest_1samp\n",
        "\n",
        "# Вычисляем вероятность выпадения суммы очков 22 или больше при честных дайсах\n",
        "p_fair_dice = 1/6\n",
        "n_rolls = 4\n",
        "p_sum_ge_22 = binom.sf(21, n_rolls, p_fair_dice)\n",
        "display(p_sum_ge_22)\n",
        "\n",
        "# Вычисляем ожидаемое среднее значение и стандартное отклонение при честных дайсах\n",
        "mu_fair_dice = n_rolls * p_fair_dice\n",
        "sigma_fair_dice = np.sqrt(n_rolls * p_fair_dice * (1 - p_fair_dice))\n",
        "display(sigma_fair_dice)\n",
        "\n",
        "# Выполняем бросок дайсов и вычисляем выборочное среднее\n",
        "dice_rolls = np.random.randint(1, 20, size=n_rolls)\n",
        "sample_mean = np.mean(dice_rolls)\n",
        "display(sample_mean)\n",
        "\n",
        "# Вычисляем t-статистику и соответствующее p-value\n",
        "t_statistic, p_value = ttest_1samp(dice_rolls, mu_fair_dice)\n",
        "display(t_statistic, p_value)\n",
        "\n",
        "# Печатаем результаты\n",
        "display(f\"Вероятность выпадения суммы очков 22 или больше при честных дайсах: {p_sum_ge_22:.4f}\")\n",
        "if p_value < 0.01:\n",
        "    print(\"H0 отвергается в пользу H1: дайсы нечестные\")\n",
        "else:\n",
        "    display(\"H0 принимается: дайсы честные\")\n",
        "\n",
        "display(f\"Вероятность выпадения суммы очков 22 или больше при честных дайсах: {p_sum_ge_22:.4f}\")\n",
        "if p_value < 0.01:\n",
        "    display(\"H0 отвергается в пользу H1: дайсы нечестные\")\n",
        "else:\n",
        "    display(\"H0 принимается: дайсы честные\")\n"
      ]
    }
  ]
}